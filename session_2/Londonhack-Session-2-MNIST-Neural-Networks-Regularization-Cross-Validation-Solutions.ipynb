{
 "cells": [
  {
   "cell_type": "code",
   "execution_count": null,
   "metadata": {
    "colab": {
     "base_uri": "https://localhost:8080/",
     "height": 791
    },
    "colab_type": "code",
    "id": "LL3vQPYkhzOy",
    "outputId": "259c4a82-dee1-48c3-e0a0-ba3a7b940e77"
   },
   "outputs": [],
   "source": [
    "!pip install pycm livelossplot\n",
    "%pylab inline"
   ]
  },
  {
   "cell_type": "markdown",
   "metadata": {
    "colab_type": "text",
    "id": "En9dBOn0hzPL"
   },
   "source": [
    "# London Hack Pytorch Tutorial Session 2\n",
    "----\n",
    "# Training Deep Neural Networks - Crossvalidation\n",
    "\n",
    "## Task 1: Training a deep neural network on MNIST using Pytorch"
   ]
  },
  {
   "cell_type": "markdown",
   "metadata": {
    "colab_type": "text",
    "id": "rGURJ5EBhzPO"
   },
   "source": [
    "In this exercise you will use cross-validation to estimate the hyperparameters of a deep-neural network trained on the MNIST dataset and create predictions on the MNIST datasets public test set."
   ]
  },
  {
   "cell_type": "markdown",
   "metadata": {
    "colab_type": "text",
    "id": "MXJ6R5CBhzPQ"
   },
   "source": [
    "#### A few imports before we get started"
   ]
  },
  {
   "cell_type": "code",
   "execution_count": 2,
   "metadata": {
    "colab": {
     "base_uri": "https://localhost:8080/",
     "height": 35
    },
    "colab_type": "code",
    "id": "5-tUzUV2hzPU",
    "outputId": "2645c5e5-8149-4585-93b0-9ea2e2b50045"
   },
   "outputs": [
    {
     "name": "stdout",
     "output_type": "stream",
     "text": [
      "Cuda installed! Running on GPU!\n"
     ]
    }
   ],
   "source": [
    "from sklearn.metrics import accuracy_score\n",
    "from sklearn.model_selection import StratifiedShuffleSplit\n",
    "\n",
    "from livelossplot import PlotLosses\n",
    "from pycm import *\n",
    "\n",
    "import torch\n",
    "import torch.nn as nn\n",
    "import torch.nn.functional as F\n",
    "from torch.utils.data import TensorDataset, DataLoader\n",
    "import torchvision.transforms as transforms\n",
    "from torchvision.datasets import MNIST\n",
    "\n",
    "\n",
    "def set_seed(seed):\n",
    "    \"\"\"\n",
    "    Use this to set ALL the random seeds to a fixed value and take out any randomness from cuda kernels\n",
    "    \"\"\"\n",
    "    random.seed(seed)\n",
    "    np.random.seed(seed)\n",
    "    torch.manual_seed(seed)\n",
    "    torch.cuda.manual_seed_all(seed)\n",
    "\n",
    "    torch.backends.cudnn.benchmark = False  ##uses the inbuilt cudnn auto-tuner to find the fastest convolution algorithms. -\n",
    "    torch.backends.cudnn.enabled   = False\n",
    "\n",
    "    return True\n",
    "\n",
    "device = 'cpu'\n",
    "if torch.cuda.device_count() > 0 and torch.cuda.is_available():\n",
    "    print(\"Cuda installed! Running on GPU!\")\n",
    "    device = 'cuda'\n",
    "else:\n",
    "    print(\"No GPU available!\")"
   ]
  },
  {
   "cell_type": "markdown",
   "metadata": {
    "colab_type": "text",
    "id": "6tLRNHc8GOfR"
   },
   "source": [
    "### Mounting the google drive for later storage"
   ]
  },
  {
   "cell_type": "code",
   "execution_count": 3,
   "metadata": {
    "colab": {
     "base_uri": "https://localhost:8080/",
     "height": 35
    },
    "colab_type": "code",
    "id": "Dg3oP6GHGOsX",
    "outputId": "6a41c0a3-585b-4278-ae68-f933ab5850dd"
   },
   "outputs": [
    {
     "name": "stdout",
     "output_type": "stream",
     "text": [
      "Drive already mounted at /content/gdrive/; to attempt to forcibly remount, call drive.mount(\"/content/gdrive/\", force_remount=True).\n"
     ]
    }
   ],
   "source": [
    "from google.colab import drive\n",
    "drive.mount('/content/gdrive/')"
   ]
  },
  {
   "cell_type": "markdown",
   "metadata": {
    "colab_type": "text",
    "id": "y_UioFmvFIDw"
   },
   "source": [
    "### The MNIST Dataset - Hello World of Deep-Learning"
   ]
  },
  {
   "cell_type": "code",
   "execution_count": 0,
   "metadata": {
    "colab": {},
    "colab_type": "code",
    "id": "3K-yVuQvhzPs"
   },
   "outputs": [],
   "source": [
    "mnist_train = MNIST(\"./\", download=True, train=True)\n",
    "mnist_test = MNIST(\"./\", download=True, train=False)"
   ]
  },
  {
   "cell_type": "markdown",
   "metadata": {
    "colab_type": "text",
    "id": "ZIKWFh11AK_Y"
   },
   "source": [
    "### Instantiate and create a ```StratifiedShuffleSplit``` using sklearn.\n",
    "1. Create a ```sklearn.model_selection.StratifiedShuffleSplit``` object with 1-split and a test-size of 10%.\n",
    "2. Get the training and validation indices from the shuffel-split "
   ]
  },
  {
   "cell_type": "code",
   "execution_count": 5,
   "metadata": {
    "colab": {
     "base_uri": "https://localhost:8080/",
     "height": 89
    },
    "colab_type": "code",
    "id": "5zHKxYrY_15l",
    "outputId": "c0a5756e-141c-4b2c-ff18-34b80a388be1"
   },
   "outputs": [
    {
     "name": "stderr",
     "output_type": "stream",
     "text": [
      "/usr/local/lib/python3.6/dist-packages/torchvision/datasets/mnist.py:53: UserWarning: train_data has been renamed data\n",
      "  warnings.warn(\"train_data has been renamed data\")\n",
      "/usr/local/lib/python3.6/dist-packages/torchvision/datasets/mnist.py:43: UserWarning: train_labels has been renamed targets\n",
      "  warnings.warn(\"train_labels has been renamed targets\")\n"
     ]
    }
   ],
   "source": [
    "shuffler = StratifiedShuffleSplit(n_splits=1, test_size=0.1, random_state=42).split(mnist_train.train_data, mnist_train.train_labels)\n",
    "indices = [(train_idx, validation_idx) for train_idx, validation_idx in shuffler][0]"
   ]
  },
  {
   "cell_type": "markdown",
   "metadata": {
    "colab_type": "text",
    "id": "euZacTUtALq7"
   },
   "source": [
    "### Splitting and normalize the data\n",
    "The original mnist data is given in gray-scale values between 0 and 255.\n",
    "You will need to write a normalisation method that takes in a ```torch.Tensor``` and performs normalisation.\n",
    "The mean of MNIST is 0.1307 and it's standard deviation is 0.3081 (after division by 255).\n",
    "\n",
    "Finally, torch likes all categorical data to be in a ```.long()``` format.\n",
    "Therefore\n"
   ]
  },
  {
   "cell_type": "code",
   "execution_count": 0,
   "metadata": {
    "colab": {},
    "colab_type": "code",
    "id": "BY7_QOdPIDXm"
   },
   "outputs": [],
   "source": [
    "def apply_normalization(X):\n",
    "  X /= 255.\n",
    "  X -= 0.1307\n",
    "  X /= 0.3081\n",
    "  return X"
   ]
  },
  {
   "cell_type": "code",
   "execution_count": 7,
   "metadata": {
    "colab": {
     "base_uri": "https://localhost:8080/",
     "height": 161
    },
    "colab_type": "code",
    "id": "C33RJWTM_12w",
    "outputId": "a6c3a27d-272b-42ab-ef86-da7254d2dcb8"
   },
   "outputs": [
    {
     "name": "stderr",
     "output_type": "stream",
     "text": [
      "/usr/local/lib/python3.6/dist-packages/torchvision/datasets/mnist.py:53: UserWarning: train_data has been renamed data\n",
      "  warnings.warn(\"train_data has been renamed data\")\n",
      "/usr/local/lib/python3.6/dist-packages/torchvision/datasets/mnist.py:43: UserWarning: train_labels has been renamed targets\n",
      "  warnings.warn(\"train_labels has been renamed targets\")\n",
      "/usr/local/lib/python3.6/dist-packages/torchvision/datasets/mnist.py:58: UserWarning: test_data has been renamed data\n",
      "  warnings.warn(\"test_data has been renamed data\")\n",
      "/usr/local/lib/python3.6/dist-packages/torchvision/datasets/mnist.py:48: UserWarning: test_labels has been renamed targets\n",
      "  warnings.warn(\"test_labels has been renamed targets\")\n"
     ]
    }
   ],
   "source": [
    "X_train, y_train = apply_normalization(mnist_train.train_data[indices[0]].float()), mnist_train.train_labels[indices[0]]\n",
    "X_val, y_val = apply_normalization(mnist_train.train_data[indices[1]].float()), mnist_train.train_labels[indices[1]]\n",
    "X_test, y_test =  apply_normalization(mnist_test.test_data.float()), mnist_test.test_labels"
   ]
  },
  {
   "cell_type": "markdown",
   "metadata": {
    "colab_type": "text",
    "id": "RM9owG-yAMLv"
   },
   "source": [
    "### Instantiate a ```torch.utils.data.TensorDataset``` for training, validation and test data"
   ]
  },
  {
   "cell_type": "code",
   "execution_count": 0,
   "metadata": {
    "colab": {},
    "colab_type": "code",
    "id": "9IjL4N-P_1zV"
   },
   "outputs": [],
   "source": [
    "mnist_train = TensorDataset(X_train, y_train.long())\n",
    "mnist_validate = TensorDataset(X_val, y_val.long())\n",
    "mnist_test = TensorDataset(X_test, y_test.long())"
   ]
  },
  {
   "cell_type": "markdown",
   "metadata": {
    "colab_type": "text",
    "id": "LZ2qMRUGAEUA"
   },
   "source": [
    "Let's visualise an example of the images and check whether the data is normalised properly (compute .mean() and .std() on the training set.)"
   ]
  },
  {
   "cell_type": "code",
   "execution_count": 9,
   "metadata": {
    "colab": {
     "base_uri": "https://localhost:8080/",
     "height": 287
    },
    "colab_type": "code",
    "id": "JVlMiRAmoh0O",
    "outputId": "9b86fca4-206b-4eef-ae38-12cfdb23e761"
   },
   "outputs": [
    {
     "name": "stdout",
     "output_type": "stream",
     "text": [
      "tensor(9.8159e-05) tensor(1.0003)\n"
     ]
    },
    {
     "data": {
      "image/png": "[encoded data removed]",
      "text/plain": [
       "<Figure size 432x288 with 1 Axes>"
      ]
     },
     "metadata": {
      "tags": []
     },
     "output_type": "display_data"
    }
   ],
   "source": [
    "plt.imshow(X_train[0])\n",
    "print(X_train.mean(), X_train.std())"
   ]
  },
  {
   "cell_type": "markdown",
   "metadata": {
    "colab_type": "text",
    "id": "pQScGYoWSZtj"
   },
   "source": [
    "### Create a SimpleNet as a ```nn.Module```\n",
    "Create a simple feed-forward neural network with the following architecture:\n",
    "- Input Layer: 28*28 neurons\n",
    "- Hidden Layer: 25 neurons\n",
    "- Output Layer: 10 neurons\n",
    "- Hidden Layer Activation: ReLU\n",
    "- Output Layer Activation: None\n"
   ]
  },
  {
   "cell_type": "code",
   "execution_count": 0,
   "metadata": {
    "colab": {},
    "colab_type": "code",
    "id": "OPxocj_ihzP2"
   },
   "outputs": [],
   "source": [
    "class SimpleNet(nn.Module):\n",
    "    def __init__(self):\n",
    "        super(SimpleNet, self).__init__()\n",
    "        self.linear_1 = nn.Linear(28*28, 25)\n",
    "        self.linear_2 = nn.Linear(25, 10)\n",
    "        self.activation = nn.ReLU()\n",
    "        \n",
    "    def forward(self, x):\n",
    "        z1 = self.linear_1(x)\n",
    "        a1 = self.activation(z1)\n",
    "        z2 = self.linear_2(a1)\n",
    "        return z2"
   ]
  },
  {
   "cell_type": "markdown",
   "metadata": {
    "colab_type": "text",
    "id": "3TYLEVrsANtX"
   },
   "source": [
    "### Sanity checks on our SimpleNet\n"
   ]
  },
  {
   "cell_type": "code",
   "execution_count": 11,
   "metadata": {
    "colab": {
     "base_uri": "https://localhost:8080/",
     "height": 71
    },
    "colab_type": "code",
    "id": "cPxBHE2MhzQA",
    "outputId": "1cec26a8-c336-4405-c5dd-be79c6a574e4"
   },
   "outputs": [
    {
     "name": "stdout",
     "output_type": "stream",
     "text": [
      "tensor([[-2.0733, -2.4628, -2.3725, -2.2958, -2.1776, -2.4226, -2.2759, -2.1916,\n",
      "         -2.6235, -2.2433]], device='cuda:0', grad_fn=<LogSoftmaxBackward>)\n",
      "tensor([0], device='cuda:0')\n"
     ]
    }
   ],
   "source": [
    "model = SimpleNet().to(device)\n",
    "criterion = nn.CrossEntropyLoss()\n",
    "\n",
    "X_ = X_train[0].view(-1, 28*28).to(device)\n",
    "y_ = torch.zeros((1)).to(device).long()\n",
    "\n",
    "a2 = model(X_)\n",
    "loss = criterion(a2, y_)\n",
    "\n",
    "y_pred = F.log_softmax(a2, dim=1).max(1)[1]\n",
    "\n",
    "print(F.log_softmax(a2, dim=1))\n",
    "print(y_pred)"
   ]
  },
  {
   "cell_type": "markdown",
   "metadata": {
    "colab_type": "text",
    "id": "bcFPI8XKAOtl"
   },
   "source": [
    "### Create simple train function\n",
    "\n",
    "The function should perform the following tasks:\n",
    "1. Set the model into training mode\n",
    "2. Iterate over all the mini-batches\n",
    "3. Send the batches to the GPU / CPU\n",
    "4. Zero all the gradients\n",
    "5. Perform the forward-pass\n",
    "6. Compute the loss\n",
    "7. Perform the backward-pass\n",
    "8. Keep a running measure of training loss and accuracy\n",
    "9. Perform a step of gradient-descent\n",
    "10. Once done with all batches, return average training loss and accuracy"
   ]
  },
  {
   "cell_type": "code",
   "execution_count": 0,
   "metadata": {
    "colab": {},
    "colab_type": "code",
    "id": "FRrehKxjhzQQ"
   },
   "outputs": [],
   "source": [
    "def train(model, optimizer, criterion, data_loader):\n",
    "    model.train()\n",
    "    train_loss, train_accuracy = 0, 0\n",
    "    for X, y in data_loader:\n",
    "        X, y = X.to(device), y.to(device)\n",
    "        optimizer.zero_grad()\n",
    "        a2 = model(X.view(-1, 28*28))\n",
    "        loss = criterion(a2, y)\n",
    "        loss.backward()\n",
    "        train_loss += loss*X.size(0)\n",
    "        y_pred = F.log_softmax(a2, dim=1).max(1)[1]\n",
    "        train_accuracy += accuracy_score(y.cpu().numpy(), y_pred.detach().cpu().numpy())*X.size(0)\n",
    "        optimizer.step()  \n",
    "        \n",
    "    return train_loss/len(data_loader.dataset), train_accuracy/len(data_loader.dataset)"
   ]
  },
  {
   "cell_type": "markdown",
   "metadata": {
    "colab_type": "text",
    "id": "9ZyumfW0AQDE"
   },
   "source": [
    "### Create simple validate function\n",
    "\n",
    "The function should perform the following tasks:\n",
    "1. Set the model into evaluation mode\n",
    "2. Iterate over all the mini-batches\n",
    "3. Send the batches to the GPU / CPU\n",
    "5. Perform the forward-pass\n",
    "6. Compute the loss\n",
    "8. Keep a running measure of validation loss and accuracy\n",
    "10. Once done with all batches, return average validation loss and accuracy"
   ]
  },
  {
   "cell_type": "code",
   "execution_count": 0,
   "metadata": {
    "colab": {},
    "colab_type": "code",
    "id": "Br0jvB7-hzQZ",
    "scrolled": false
   },
   "outputs": [],
   "source": [
    "def validate(model, criterion, data_loader):\n",
    "    model.eval()\n",
    "    validation_loss, validation_accuracy = 0., 0.\n",
    "    for X, y in data_loader:\n",
    "        with torch.no_grad():\n",
    "            X, y = X.to(device), y.to(device)\n",
    "            a2 = model(X.view(-1, 28*28))\n",
    "            loss = criterion(a2, y)\n",
    "            validation_loss += loss*X.size(0)\n",
    "            y_pred = F.log_softmax(a2, dim=1).max(1)[1]\n",
    "            validation_accuracy += accuracy_score(y.cpu().numpy(), y_pred.cpu().numpy())*X.size(0)\n",
    "            \n",
    "    return validation_loss/len(data_loader.dataset), validation_accuracy/len(data_loader.dataset)"
   ]
  },
  {
   "cell_type": "markdown",
   "metadata": {
    "colab_type": "text",
    "id": "i_pehihNAQ9E"
   },
   "source": [
    " ### Set the hyperparameters of your model\n",
    "- Seed: 42\n",
    "- learning rate: 1e-2\n",
    "- Optimizer: SGD\n",
    "- momentum: 0.9\n",
    "- Number of Epochs: 30\n",
    "- Batchsize: 64\n",
    "- Test Batch Size (no effect on training apart from time): 1000\n",
    "- Shuffle the training set every epoch: Yes"
   ]
  },
  {
   "cell_type": "code",
   "execution_count": 0,
   "metadata": {
    "colab": {},
    "colab_type": "code",
    "id": "Zvp3L6IGhzQj"
   },
   "outputs": [],
   "source": [
    "seed = 42\n",
    "lr = 1e-2\n",
    "momentum = 0.9\n",
    "batch_size = 64\n",
    "test_batch_size = 1000\n",
    "n_epochs = 30"
   ]
  },
  {
   "cell_type": "markdown",
   "metadata": {
    "colab_type": "text",
    "id": "-QgnLf8fJ8nG"
   },
   "source": [
    "### Instantiate our model, optimizer and loss function\n",
    "Set the random number generator seed using ```set_seed``` to make everything reproducible.\n",
    "As a criterion use a sensible loss for the multi-class classification problem."
   ]
  },
  {
   "cell_type": "code",
   "execution_count": 0,
   "metadata": {
    "colab": {},
    "colab_type": "code",
    "id": "6fKO9Q-sJ8uW"
   },
   "outputs": [],
   "source": [
    "set_seed(seed)\n",
    "model = SimpleNet().to(device)\n",
    "optimizer = torch.optim.SGD(model.parameters(), lr=lr, momentum=momentum)\n",
    "criterion = nn.CrossEntropyLoss()"
   ]
  },
  {
   "cell_type": "markdown",
   "metadata": {
    "colab_type": "text",
    "id": "ZfBaeCSiASt7"
   },
   "source": [
    "### Create dataloaders for the training, validation and test data"
   ]
  },
  {
   "cell_type": "code",
   "execution_count": 0,
   "metadata": {
    "colab": {},
    "colab_type": "code",
    "id": "1OkfIQO5ATUM"
   },
   "outputs": [],
   "source": [
    "train_loader = DataLoader(mnist_train, batch_size=batch_size, shuffle=True, num_workers=0)\n",
    "validation_loader = DataLoader(mnist_validate, batch_size=test_batch_size, shuffle=False, num_workers=0)\n",
    "test_loader = DataLoader(mnist_test, batch_size=test_batch_size, shuffle=False, num_workers=0)"
   ]
  },
  {
   "cell_type": "markdown",
   "metadata": {
    "colab_type": "text",
    "id": "NMEpCuC1EEFw"
   },
   "source": [
    "### Perform the training of the network and validation\n",
    "Here we provide you with a method to visualize both training and validation loss while training your networks."
   ]
  },
  {
   "cell_type": "code",
   "execution_count": 17,
   "metadata": {
    "colab": {
     "base_uri": "https://localhost:8080/",
     "height": 452
    },
    "colab_type": "code",
    "id": "w9txG8N2hzQt",
    "outputId": "cfe6c275-dcdf-4b26-8424-b044ca0b8d6d"
   },
   "outputs": [
    {
     "data": {
      "image/png": "[encoded data removed]",
      "text/plain": [
       "<Figure size 864x576 with 2 Axes>"
      ]
     },
     "metadata": {
      "tags": []
     },
     "output_type": "display_data"
    },
    {
     "name": "stdout",
     "output_type": "stream",
     "text": [
      "log loss:\n",
      "training   (min:    0.040, max:    0.324, cur:    0.040)\n",
      "validation (min:    0.141, max:    0.211, cur:    0.200)\n",
      "\n",
      "accuracy:\n",
      "training   (min:    0.905, max:    0.987, cur:    0.987)\n",
      "validation (min:    0.940, max:    0.960, cur:    0.956)\n"
     ]
    }
   ],
   "source": [
    "liveloss = PlotLosses()\n",
    "for epoch in range(30):\n",
    "    logs = {}\n",
    "    train_loss, train_accuracy = train(model, optimizer, criterion, train_loader)\n",
    "\n",
    "    logs['' + 'log loss'] = train_loss.item()\n",
    "    logs['' + 'accuracy'] = train_accuracy.item()\n",
    "    \n",
    "    validation_loss, validation_accuracy = validate(model, criterion, validation_loader)\n",
    "    logs['val_' + 'log loss'] = validation_loss.item()\n",
    "    logs['val_' + 'accuracy'] = validation_accuracy.item()\n",
    "    \n",
    "    liveloss.update(logs)\n",
    "    liveloss.draw()"
   ]
  },
  {
   "cell_type": "markdown",
   "metadata": {
    "colab_type": "text",
    "id": "5kPt1sm8Mm_q"
   },
   "source": [
    "It seems the model isn't doing very well. Maybe we can do better.\n",
    "Run a grid search over the momentum value, use the following: momentum = [0.1, 0.5, 0.9]\n",
    "and run the model on the full training set with the best value for the momentum parameter."
   ]
  },
  {
   "cell_type": "code",
   "execution_count": 0,
   "metadata": {
    "colab": {},
    "colab_type": "code",
    "id": "cVIuIJuTM2Ro"
   },
   "outputs": [],
   "source": [
    "def train_model(momentum):\n",
    "  set_seed(seed)\n",
    "  model = SimpleNet().to(device)\n",
    "  optimizer = torch.optim.SGD(model.parameters(), lr=lr, momentum=momentum)\n",
    "  criterion = nn.CrossEntropyLoss()\n",
    "  \n",
    "  train_loader = DataLoader(mnist_train, batch_size=batch_size, shuffle=True, num_workers=0)\n",
    "  validation_loader = DataLoader(mnist_validate, batch_size=test_batch_size, shuffle=False, num_workers=0)\n",
    "  test_loader = DataLoader(mnist_test, batch_size=test_batch_size, shuffle=False, num_workers=0)\n",
    "  \n",
    "  liveloss = PlotLosses()\n",
    "  for epoch in range(30):\n",
    "      logs = {}\n",
    "      train_loss, train_accuracy = train(model, optimizer, criterion, train_loader)\n",
    "\n",
    "      logs['' + 'log loss'] = train_loss.item()\n",
    "      logs['' + 'accuracy'] = train_accuracy.item()\n",
    "\n",
    "      validation_loss, validation_accuracy = validate(model, criterion, validation_loader)\n",
    "      logs['val_' + 'log loss'] = validation_loss.item()\n",
    "      logs['val_' + 'accuracy'] = validation_accuracy.item()\n",
    "\n",
    "      liveloss.update(logs)\n",
    "      liveloss.draw()\n",
    "      \n",
    "  return True"
   ]
  },
  {
   "cell_type": "code",
   "execution_count": 19,
   "metadata": {
    "colab": {
     "base_uri": "https://localhost:8080/",
     "height": 470
    },
    "colab_type": "code",
    "id": "0G3oP1vPNE2O",
    "outputId": "51d041b1-e416-4d63-ac26-5e7c8051415d"
   },
   "outputs": [
    {
     "data": {
      "image/png": "[encoded data removed]",
      "text/plain": [
       "<Figure size 864x576 with 2 Axes>"
      ]
     },
     "metadata": {
      "tags": []
     },
     "output_type": "display_data"
    },
    {
     "name": "stdout",
     "output_type": "stream",
     "text": [
      "log loss:\n",
      "training   (min:    0.091, max:    0.613, cur:    0.091)\n",
      "validation (min:    0.141, max:    0.355, cur:    0.141)\n",
      "\n",
      "accuracy:\n",
      "training   (min:    0.844, max:    0.974, cur:    0.974)\n",
      "validation (min:    0.903, max:    0.960, cur:    0.959)\n"
     ]
    },
    {
     "data": {
      "text/plain": [
       "True"
      ]
     },
     "execution_count": 19,
     "metadata": {
      "tags": []
     },
     "output_type": "execute_result"
    }
   ],
   "source": [
    "train_model(0.1)"
   ]
  },
  {
   "cell_type": "code",
   "execution_count": 20,
   "metadata": {
    "colab": {
     "base_uri": "https://localhost:8080/",
     "height": 470
    },
    "colab_type": "code",
    "id": "EA9rn-x3NFEP",
    "outputId": "07834c00-7057-41de-ac02-155cdabcf362"
   },
   "outputs": [
    {
     "data": {
      "image/png": "[encoded data removed]",
      "text/plain": [
       "<Figure size 864x576 with 2 Axes>"
      ]
     },
     "metadata": {
      "tags": []
     },
     "output_type": "display_data"
    },
    {
     "name": "stdout",
     "output_type": "stream",
     "text": [
      "log loss:\n",
      "training   (min:    0.069, max:    0.492, cur:    0.069)\n",
      "validation (min:    0.137, max:    0.308, cur:    0.137)\n",
      "\n",
      "accuracy:\n",
      "training   (min:    0.868, max:    0.980, cur:    0.980)\n",
      "validation (min:    0.915, max:    0.961, cur:    0.961)\n"
     ]
    },
    {
     "data": {
      "text/plain": [
       "True"
      ]
     },
     "execution_count": 20,
     "metadata": {
      "tags": []
     },
     "output_type": "execute_result"
    }
   ],
   "source": [
    "train_model(0.5)"
   ]
  },
  {
   "cell_type": "code",
   "execution_count": 21,
   "metadata": {
    "colab": {
     "base_uri": "https://localhost:8080/",
     "height": 470
    },
    "colab_type": "code",
    "id": "82leJRKPNFOk",
    "outputId": "47733524-9380-4df6-d09e-4e0c3a6e1307"
   },
   "outputs": [
    {
     "data": {
      "image/png": "[encoded data removed]",
      "text/plain": [
       "<Figure size 864x576 with 2 Axes>"
      ]
     },
     "metadata": {
      "tags": []
     },
     "output_type": "display_data"
    },
    {
     "name": "stdout",
     "output_type": "stream",
     "text": [
      "log loss:\n",
      "training   (min:    0.040, max:    0.324, cur:    0.040)\n",
      "validation (min:    0.141, max:    0.211, cur:    0.200)\n",
      "\n",
      "accuracy:\n",
      "training   (min:    0.905, max:    0.987, cur:    0.987)\n",
      "validation (min:    0.940, max:    0.960, cur:    0.956)\n"
     ]
    },
    {
     "data": {
      "text/plain": [
       "True"
      ]
     },
     "execution_count": 21,
     "metadata": {
      "tags": []
     },
     "output_type": "execute_result"
    }
   ],
   "source": [
    "train_model(0.9)"
   ]
  },
  {
   "cell_type": "code",
   "execution_count": 0,
   "metadata": {
    "colab": {},
    "colab_type": "code",
    "id": "Tpq0M6qGOTy0"
   },
   "outputs": [],
   "source": [
    "best_momentum = 0.5"
   ]
  },
  {
   "cell_type": "markdown",
   "metadata": {
    "colab_type": "text",
    "id": "biyWFx8tAW9G"
   },
   "source": [
    "### Implement an evaluate method\n",
    "This method performs the same as validate but doesn't report losses, but simply returns all predictions on a given dataset (training, validation, test-set)"
   ]
  },
  {
   "cell_type": "code",
   "execution_count": 0,
   "metadata": {
    "colab": {},
    "colab_type": "code",
    "id": "1-MaI8F1hzQ7"
   },
   "outputs": [],
   "source": [
    "def evaluate(model, data_loader):\n",
    "    model.eval()\n",
    "    ys, y_preds = [], []\n",
    "    for X, y in data_loader:\n",
    "        with torch.no_grad():\n",
    "            X, y = X.to(device), y.to(device)\n",
    "            a2 = model(X.view(-1, 28*28))\n",
    "            y_pred = F.log_softmax(a2, dim=1).max(1)[1]\n",
    "            ys.append(y.cpu().numpy())\n",
    "            y_preds.append(y_pred.cpu().numpy())\n",
    "            \n",
    "    return np.concatenate(y_preds, 0),  np.concatenate(ys, 0)\n",
    "\n",
    "y_pred, y_gt = evaluate(model, validation_loader)"
   ]
  },
  {
   "cell_type": "markdown",
   "metadata": {
    "colab_type": "text",
    "id": "keGazNqkAXw9"
   },
   "source": [
    "### Plotting a confusion matrix\n",
    "\n",
    "We can use a confusion matrix to diagnose problems in our models.\n",
    "We may see for example that our model confuses 9's for 4's quite often."
   ]
  },
  {
   "cell_type": "code",
   "execution_count": 24,
   "metadata": {
    "colab": {
     "base_uri": "https://localhost:8080/",
     "height": 2449
    },
    "colab_type": "code",
    "id": "SWtJhZnDhzRE",
    "outputId": "c8424d84-e340-4665-bbc4-748220313301",
    "scrolled": false
   },
   "outputs": [
    {
     "name": "stdout",
     "output_type": "stream",
     "text": [
      "Predict          0      1      2      3      4      5      6      7      8      9      \n",
      "Actual\n",
      "0                585    1      1      0      0      1      1      0      2      1      \n",
      "\n",
      "1                0      667    2      1      0      0      0      0      2      2      \n",
      "\n",
      "2                1      13     557    6      1      0      5      8      4      1      \n",
      "\n",
      "3                2      2      6      580    0      13     0      1      6      3      \n",
      "\n",
      "4                3      2      6      1      556    1      1      2      2      10     \n",
      "\n",
      "5                1      0      0      5      2      522    3      1      4      4      \n",
      "\n",
      "6                8      0      1      0      8      2      571    1      1      0      \n",
      "\n",
      "7                2      4      5      3      3      2      0      598    2      8      \n",
      "\n",
      "8                3      6      4      9      2      8      5      0      544    4      \n",
      "\n",
      "9                4      2      0      2      7      4      0      11     8      557    \n",
      "\n",
      "\n",
      "Warning : The confusion matrix is a high dimension matrix and won't be demonstrated properly. \n",
      "The save_csv method can be used to save the confusion matrix in csv format and have a better demonstration of it.\n",
      "\n",
      "\n",
      "\n",
      "\n",
      "Overall Statistics : \n",
      "\n",
      "95% CI                                                            (0.95099,0.96135)\n",
      "AUNP                                                              0.97565\n",
      "AUNU                                                              0.97546\n",
      "Bennett S                                                         0.9513\n",
      "CBA                                                               0.94786\n",
      "Chi-Squared                                                       48857.82328\n",
      "Chi-Squared DF                                                    81\n",
      "Conditional Entropy                                               0.36388\n",
      "Cramer V                                                          0.9512\n",
      "Cross Entropy                                                     3.32013\n",
      "Gwet AC1                                                          0.9513\n",
      "Hamming Loss                                                      0.04383\n",
      "Joint Entropy                                                     3.68375\n",
      "KL Divergence                                                     0.00027\n",
      "Kappa                                                             0.95128\n",
      "Kappa 95% CI                                                      (0.94552,0.95704)\n",
      "Kappa No Prevalence                                               0.91233\n",
      "Kappa Standard Error                                              0.00294\n",
      "Kappa Unbiased                                                    0.95128\n",
      "Lambda A                                                          0.95062\n",
      "Lambda B                                                          0.95041\n",
      "Mutual Information                                                2.95534\n",
      "NIR                                                               0.11233\n",
      "Overall ACC                                                       0.95617\n",
      "Overall CEN                                                       0.08304\n",
      "Overall J                                                         (9.15662,0.91566)\n",
      "Overall MCC                                                       0.9513\n",
      "Overall MCEN                                                      0.1403\n",
      "Overall RACC                                                      0.10032\n",
      "Overall RACCU                                                     0.10033\n",
      "P-Value                                                           None\n",
      "PPV Macro                                                         0.95603\n",
      "PPV Micro                                                         0.95617\n",
      "Phi-Squared                                                       8.14297\n",
      "RCI                                                               0.8902\n",
      "RR                                                                600.0\n",
      "Reference Entropy                                                 3.31987\n",
      "Response Entropy                                                  3.31922\n",
      "SOA1(Landis & Koch)                                               Almost Perfect\n",
      "SOA2(Fleiss)                                                      Excellent\n",
      "SOA3(Altman)                                                      Very Good\n",
      "SOA4(Cicchetti)                                                   Excellent\n",
      "Scott PI                                                          0.95128\n",
      "Standard Error                                                    0.00264\n",
      "TPR Macro                                                         0.9558\n",
      "TPR Micro                                                         0.95617\n",
      "Zero-one Loss                                                     263\n",
      "\n",
      "Class Statistics :\n",
      "\n",
      "Classes                                                           0                       1                       2                       3                       4                       5                       6                       7                       8                       9                       \n",
      "ACC(Accuracy)                                                     0.99483                 0.99383                 0.98933                 0.99                    0.9915                  0.9915                  0.994                   0.99117                 0.988                   0.98817                 \n",
      "AM(Difference between automatic and manual classification)        17                      23                      -14                     -6                      -5                      11                      -6                      -5                      -10                     -5                      \n",
      "AUC(Area under the roc curve)                                     0.99187                 0.99199                 0.96497                 0.97058                 0.9739                  0.97871                 0.98088                 0.97464                 0.96209                 0.96501                 \n",
      "AUCI(AUC value interpretation)                                    Excellent               Excellent               Excellent               Excellent               Excellent               Excellent               Excellent               Excellent               Excellent               Excellent               \n",
      "BCD(Bray-Curtis dissimilarity)                                    0.00142                 0.00192                 0.00117                 0.0005                  0.00042                 0.00092                 0.0005                  0.00042                 0.00083                 0.00042                 \n",
      "BM(Informedness or bookmaker informedness)                        0.98374                 0.98398                 0.92994                 0.94115                 0.94781                 0.95742                 0.96175                 0.94928                 0.92419                 0.93003                 \n",
      "CEN(Confusion entropy)                                            0.05384                 0.05282                 0.10038                 0.09138                 0.08402                 0.08683                 0.05889                 0.08103                 0.11723                 0.10995                 \n",
      "DOR(Diagnostic odds ratio)                                        18747.85714             16821.10476             3072.92615              3489.11336              4656.06832              4569.18387              9775.88254              4595.83621              2304.40283              2386.12759              \n",
      "DP(Discriminant power)                                            2.3558                  2.32984                 1.92279                 1.9532                  2.02229                 2.01777                 2.19989                 2.01917                 1.85388                 1.86222                 \n",
      "DPI(Discriminant power interpretation)                            Fair                    Fair                    Limited                 Limited                 Fair                    Fair                    Fair                    Fair                    Limited                 Limited                 \n",
      "ERR(Error rate)                                                   0.00517                 0.00617                 0.01067                 0.01                    0.0085                  0.0085                  0.006                   0.00883                 0.012                   0.01183                 \n",
      "F0.5(F0.5 score)                                                  0.96598                 0.96332                 0.95246                 0.95363                 0.95862                 0.94771                 0.97241                 0.95987                 0.94281                 0.94247                 \n",
      "F1(F1 score - harmonic mean of precision and sensitivity)         0.97419                 0.97301                 0.94567                 0.95082                 0.95615                 0.95342                 0.96944                 0.95757                 0.93793                 0.94008                 \n",
      "F2(F2 score)                                                      0.98253                 0.98291                 0.93898                 0.94802                 0.95369                 0.95921                 0.96649                 0.95527                 0.9331                  0.93771                 \n",
      "FDR(False discovery rate)                                         0.03941                 0.04304                 0.04296                 0.04448                 0.03972                 0.05606                 0.0256                  0.03859                 0.05391                 0.05593                 \n",
      "FN(False negative/miss/type 2 error)                              7                       7                       39                      33                      28                      20                      21                      29                      41                      38                      \n",
      "FNR(Miss rate or false negative rate)                             0.01182                 0.01039                 0.06544                 0.05383                 0.04795                 0.0369                  0.03547                 0.04625                 0.07009                 0.06387                 \n",
      "FOR(False omission rate)                                          0.0013                  0.00132                 0.0072                  0.00612                 0.00517                 0.00367                 0.00388                 0.00539                 0.00756                 0.00702                 \n",
      "FP(False positive/type 1 error/false alarm)                       24                      30                      25                      27                      23                      31                      15                      24                      31                      33                      \n",
      "FPR(Fall-out or false positive rate)                              0.00444                 0.00563                 0.00463                 0.00501                 0.00425                 0.00568                 0.00277                 0.00447                 0.00572                 0.00611                 \n",
      "G(G-measure geometric mean of precision and sensitivity)          0.97429                 0.97315                 0.94574                 0.95083                 0.95616                 0.95347                 0.96945                 0.95757                 0.93797                 0.94009                 \n",
      "GI(Gini index)                                                    0.98374                 0.98398                 0.92994                 0.94115                 0.94781                 0.95742                 0.96175                 0.94928                 0.92419                 0.93003                 \n",
      "IS(Information score)                                             3.28329                 3.09067                 3.26824                 3.22536                 3.30244                 3.38537                 3.30388                 3.20166                 3.2785                  3.25096                 \n",
      "J(Jaccard index)                                                  0.94968                 0.94744                 0.89694                 0.90625                 0.91598                 0.91099                 0.94069                 0.91859                 0.88312                 0.88694                 \n",
      "LS(Lift score)                                                    9.73572                 8.51892                 9.63468                 9.35255                 9.86585                 10.44954                9.8757                  9.20014                 9.70346                 9.52001                 \n",
      "MCC(Matthews correlation coefficient)                             0.97144                 0.96971                 0.93984                 0.94527                 0.95145                 0.94881                 0.96613                 0.95265                 0.93133                 0.93353                 \n",
      "MCEN(Modified confusion entropy)                                  0.09334                 0.09074                 0.16759                 0.15327                 0.14208                 0.14598                 0.10069                 0.13711                 0.19516                 0.18262                 \n",
      "MK(Markedness)                                                    0.95929                 0.95564                 0.94985                 0.9494                  0.95511                 0.94027                 0.97052                 0.95602                 0.93853                 0.93704                 \n",
      "N(Condition negative)                                             5408                    5326                    5404                    5387                    5416                    5458                    5408                    5373                    5415                    5405                    \n",
      "NLR(Negative likelihood ratio)                                    0.01188                 0.01044                 0.06574                 0.0541                  0.04815                 0.03711                 0.03557                 0.04646                 0.07049                 0.06426                 \n",
      "NPV(Negative predictive value)                                    0.9987                  0.99868                 0.9928                  0.99388                 0.99483                 0.99633                 0.99612                 0.99461                 0.99244                 0.99298                 \n",
      "P(Condition positive or support)                                  592                     674                     596                     613                     584                     542                     592                     627                     585                     595                     \n",
      "PLR(Positive likelihood ratio)                                    222.66892               175.68952               202.0153                188.77772               224.18821               169.56767               347.74414               213.52033               162.43507               153.32748               \n",
      "PLRI(Positive likelihood ratio interpretation)                    Good                    Good                    Good                    Good                    Good                    Good                    Good                    Good                    Good                    Good                    \n",
      "POP(Population)                                                   6000                    6000                    6000                    6000                    6000                    6000                    6000                    6000                    6000                    6000                    \n",
      "PPV(Precision or positive predictive value)                       0.96059                 0.95696                 0.95704                 0.95552                 0.96028                 0.94394                 0.9744                  0.96141                 0.94609                 0.94407                 \n",
      "PRE(Prevalence)                                                   0.09867                 0.11233                 0.09933                 0.10217                 0.09733                 0.09033                 0.09867                 0.1045                  0.0975                  0.09917                 \n",
      "RACC(Random accuracy)                                             0.01001                 0.01305                 0.00964                 0.01034                 0.00939                 0.00833                 0.00964                 0.01083                 0.00934                 0.00975                 \n",
      "RACCU(Random accuracy unbiased)                                   0.01002                 0.01305                 0.00964                 0.01034                 0.00939                 0.00833                 0.00964                 0.01083                 0.00934                 0.00975                 \n",
      "TN(True negative/correct rejection)                               5384                    5296                    5379                    5360                    5393                    5427                    5393                    5349                    5384                    5372                    \n",
      "TNR(Specificity or true negative rate)                            0.99556                 0.99437                 0.99537                 0.99499                 0.99575                 0.99432                 0.99723                 0.99553                 0.99428                 0.99389                 \n",
      "TON(Test outcome negative)                                        5391                    5303                    5418                    5393                    5421                    5447                    5414                    5378                    5425                    5410                    \n",
      "TOP(Test outcome positive)                                        609                     697                     582                     607                     579                     553                     586                     622                     575                     590                     \n",
      "TP(True positive/hit)                                             585                     667                     557                     580                     556                     522                     571                     598                     544                     557                     \n",
      "TPR(Sensitivity, recall, hit rate, or true positive rate)         0.98818                 0.98961                 0.93456                 0.94617                 0.95205                 0.9631                  0.96453                 0.95375                 0.92991                 0.93613                 \n",
      "Y(Youden index)                                                   0.98374                 0.98398                 0.92994                 0.94115                 0.94781                 0.95742                 0.96175                 0.94928                 0.92419                 0.93003                 \n",
      "dInd(Distance index)                                              0.01263                 0.01181                 0.0656                  0.05407                 0.04813                 0.03733                 0.03558                 0.04647                 0.07032                 0.06416                 \n",
      "sInd(Similarity index)                                            0.99107                 0.99165                 0.95361                 0.96177                 0.96596                 0.9736                  0.97484                 0.96714                 0.95028                 0.95463                 \n",
      "\n",
      "Warning : The confusion matrix is a high dimension matrix and won't be demonstrated properly. \n",
      "The save_csv method can be used to save the confusion matrix in csv format and have a better demonstration of it.\n",
      "\n"
     ]
    }
   ],
   "source": [
    "cm = ConfusionMatrix(actual_vector=y_gt, predict_vector=y_pred) # Create CM From Data\n",
    "print(cm)"
   ]
  },
  {
   "cell_type": "markdown",
   "metadata": {
    "colab_type": "text",
    "id": "2-OG3gAcE2mr"
   },
   "source": [
    "### Given that you estimated your hyperparameters, train your model on the full dataset and evaluate on the test set"
   ]
  },
  {
   "cell_type": "code",
   "execution_count": 25,
   "metadata": {
    "colab": {
     "base_uri": "https://localhost:8080/",
     "height": 452
    },
    "colab_type": "code",
    "id": "hsHixVU5hzRS",
    "outputId": "21f9240a-9dce-45e7-d77c-bf8ba0adf268"
   },
   "outputs": [
    {
     "data": {
      "image/png": "[encoded data removed]",
      "text/plain": [
       "<Figure size 864x576 with 2 Axes>"
      ]
     },
     "metadata": {
      "tags": []
     },
     "output_type": "display_data"
    },
    {
     "name": "stdout",
     "output_type": "stream",
     "text": [
      "log loss:\n",
      "training   (min:    0.070, max:    0.471, cur:    0.070)\n",
      "\n",
      "accuracy:\n",
      "training   (min:    0.873, max:    0.979, cur:    0.979)\n",
      "Avg. Test Loss: 0.116  Avg. Test Accuracy: 0.965\n",
      "\n"
     ]
    }
   ],
   "source": [
    "mnist_train = MNIST(\"./\", download=True, train=True)\n",
    "\n",
    "X_train, y_train = apply_normalization(mnist_train.train_data.float()), mnist_train.train_labels\n",
    "mnist_train = TensorDataset(X_train, y_train)\n",
    "train_loader = DataLoader(mnist_train, batch_size=batch_size, shuffle=True, num_workers=4)\n",
    "\n",
    "set_seed(seed)\n",
    "model = SimpleNet().to(device)\n",
    "optimizer = torch.optim.SGD(model.parameters(), lr=lr, momentum=best_momentum)\n",
    "criterion = nn.CrossEntropyLoss()\n",
    "\n",
    "liveloss = PlotLosses()\n",
    "for epoch in range(n_epochs):\n",
    "    logs = {}\n",
    "    train_loss, train_accuracy = train(model, optimizer, criterion, train_loader)\n",
    "\n",
    "    logs['' + 'log loss'] = train_loss.item()\n",
    "    logs['' + 'accuracy'] = train_accuracy.item()\n",
    "    liveloss.update(logs)\n",
    "    liveloss.draw()\n",
    "\n",
    "test_loss, test_accuracy = validate(model, criterion, test_loader)    \n",
    "print(\"Avg. Test Loss: %1.3f\" % test_loss.item(), \" Avg. Test Accuracy: %1.3f\" % test_accuracy.item())\n",
    "print(\"\")"
   ]
  },
  {
   "cell_type": "markdown",
   "metadata": {
    "colab_type": "text",
    "id": "QefvYkcIAaWH"
   },
   "source": [
    "### Storing and loading models - Pytorch State-Dicts"
   ]
  },
  {
   "cell_type": "markdown",
   "metadata": {
    "colab_type": "text",
    "id": "6db2OqwdAb7V"
   },
   "source": [
    "Pytorch stores all the parameters of models and optimizers, their weights and biases in an easy to read dictionary called a \"state-dict\".\n",
    "When we store models and optimizers, we store the state-dict.  \n",
    "Together with the model definition we can then restore the model to it's state when we stored it to disk.\n",
    "Let's look at the contents of the state-dict of both our optimizer and our model:"
   ]
  },
  {
   "cell_type": "code",
   "execution_count": 26,
   "metadata": {
    "colab": {
     "base_uri": "https://localhost:8080/",
     "height": 1259
    },
    "colab_type": "code",
    "id": "YzY_uubq_uqM",
    "outputId": "04d48c9c-2333-4866-b0b3-7689131360bb"
   },
   "outputs": [
    {
     "name": "stdout",
     "output_type": "stream",
     "text": [
      "Model's state_dict:\n",
      "linear_1.weight \t torch.Size([25, 784])\n",
      "linear_1.bias \t torch.Size([25])\n",
      "linear_2.weight \t torch.Size([10, 25])\n",
      "linear_2.bias \t torch.Size([10])\n",
      "Optimizer's state_dict:\n",
      "state \t {140407283192456: {'momentum_buffer': tensor([[-0.0008, -0.0008, -0.0008,  ..., -0.0008, -0.0008, -0.0008],\n",
      "        [ 0.0046,  0.0046,  0.0046,  ...,  0.0046,  0.0046,  0.0046],\n",
      "        [ 0.0003,  0.0003,  0.0003,  ...,  0.0003,  0.0003,  0.0003],\n",
      "        ...,\n",
      "        [ 0.0017,  0.0017,  0.0017,  ...,  0.0017,  0.0017,  0.0017],\n",
      "        [ 0.0087,  0.0087,  0.0087,  ...,  0.0087,  0.0087,  0.0087],\n",
      "        [-0.0046, -0.0046, -0.0046,  ..., -0.0046, -0.0046, -0.0046]],\n",
      "       device='cuda:0')}, 140408644217592: {'momentum_buffer': tensor([ 0.0018, -0.0107, -0.0007, -0.0067,  0.0159,  0.0029,  0.0137,  0.0019,\n",
      "         0.0133, -0.0002, -0.0017, -0.0052,  0.0079,  0.0076,  0.0033, -0.0024,\n",
      "        -0.0028,  0.0068, -0.0055,  0.0061, -0.0130,  0.0016, -0.0041, -0.0204,\n",
      "         0.0109], device='cuda:0')}, 140407212256928: {'momentum_buffer': tensor([[ 5.6731e-04,  1.8843e-03,  2.0575e-02,  1.4897e-02,  1.6406e-03,\n",
      "         -1.5407e-03,  5.3213e-03,  1.3586e-02,  1.4933e-02,  8.3544e-03,\n",
      "          1.0720e-02,  7.2142e-03, -1.8427e-03,  1.7249e-02,  6.8353e-03,\n",
      "         -8.6842e-03,  2.2887e-02,  8.1714e-04, -5.6719e-03,  6.2228e-03,\n",
      "          6.6362e-03, -2.4087e-03,  1.7103e-02,  8.4131e-04,  1.2256e-02],\n",
      "        [ 3.2830e-03, -2.4341e-03, -3.8875e-03, -1.1288e-02,  3.4027e-04,\n",
      "         -6.3019e-03,  3.3415e-03, -5.3164e-03, -1.2642e-02,  2.4981e-03,\n",
      "          9.8440e-04, -6.8034e-03,  1.1228e-03, -6.0178e-03, -1.9985e-02,\n",
      "         -1.2620e-03, -4.8405e-03, -2.7185e-03,  1.9523e-03,  3.0123e-03,\n",
      "          8.9523e-04,  2.5468e-04, -7.0074e-03, -3.1704e-03, -5.4137e-03],\n",
      "        [-1.1823e-03, -2.9165e-02, -1.1730e-02, -5.4225e-02, -4.1272e-02,\n",
      "          4.1759e-03, -7.1616e-02, -1.5880e-01,  2.8157e-03, -3.3263e-02,\n",
      "         -3.6521e-02, -8.2321e-02, -2.9452e-02, -4.5725e-02, -9.2778e-02,\n",
      "         -6.6996e-02, -2.0673e-02, -3.7195e-02, -1.0737e-02, -5.1911e-02,\n",
      "         -6.6418e-02,  6.5497e-04, -5.1223e-02, -1.5791e-01, -6.9874e-02],\n",
      "        [ 1.1906e-02,  4.6710e-03,  7.8494e-03,  3.4509e-02,  4.4099e-03,\n",
      "          3.4919e-02,  3.7253e-02,  3.8762e-02,  1.1071e-02,  2.5890e-02,\n",
      "          4.5200e-03,  1.2428e-02,  2.2236e-02,  1.6013e-02,  8.1762e-02,\n",
      "          4.7487e-02,  9.2614e-03,  2.4638e-02,  2.9812e-02,  2.2306e-02,\n",
      "          9.9948e-03,  3.3368e-02,  2.2438e-02,  2.6517e-02,  4.1482e-02],\n",
      "        [ 7.1205e-04,  1.7545e-02,  3.9458e-02,  3.6751e-02,  9.1735e-03,\n",
      "          4.7008e-02,  2.6541e-02,  4.2504e-02,  8.7446e-02,  7.4191e-02,\n",
      "          2.3696e-02,  2.2516e-03,  3.9506e-02,  4.6500e-02,  1.0670e-01,\n",
      "          2.0386e-05,  7.6621e-02,  9.8166e-02,  1.0421e-02,  7.7589e-02,\n",
      "          1.5998e-02,  1.4370e-02,  7.5627e-02,  3.8643e-02,  5.2522e-02],\n",
      "        [-1.7705e-02,  9.5528e-04, -1.2075e-02,  3.4582e-02,  2.5425e-02,\n",
      "         -1.6695e-02,  1.7935e-02,  9.1599e-02, -1.7516e-02, -6.3108e-03,\n",
      "          7.9363e-03,  5.5219e-02,  3.3376e-03,  8.4734e-04,  1.7289e-02,\n",
      "          1.5106e-02, -3.8112e-03,  3.1543e-03, -2.6912e-02, -1.5339e-02,\n",
      "          3.1429e-02, -3.7850e-02,  3.0239e-02,  1.0741e-01,  3.1207e-03],\n",
      "        [ 8.8874e-05,  1.9626e-03,  4.0175e-03, -1.5166e-02, -1.9178e-03,\n",
      "         -1.0100e-03, -6.6667e-04,  1.7957e-03, -6.3778e-03, -1.3130e-02,\n",
      "          7.4903e-04, -2.0372e-03, -6.5009e-03,  1.2068e-03, -1.7923e-02,\n",
      "         -9.1797e-03, -6.2674e-03, -1.3181e-02, -3.9125e-04, -1.4041e-03,\n",
      "          7.2057e-04, -3.0804e-03, -1.1683e-02, -4.9326e-03, -3.0240e-03],\n",
      "        [ 5.8800e-03,  1.4726e-02,  1.2649e-03, -1.4019e-02,  1.3834e-03,\n",
      "         -1.2073e-02, -1.2570e-02, -1.7077e-03,  4.7521e-03, -1.0276e-02,\n",
      "          4.7358e-03,  4.6631e-03,  1.7028e-03,  1.0256e-03,  1.7811e-03,\n",
      "          3.1163e-03, -1.8901e-03, -5.4119e-04,  3.6675e-03,  1.2473e-02,\n",
      "          4.5833e-04, -6.2708e-04, -1.4782e-02,  9.0096e-03, -3.3510e-04],\n",
      "        [-4.1040e-04, -5.6400e-02,  1.1155e-02, -4.3837e-02, -9.0559e-04,\n",
      "          1.1851e-02, -9.5180e-02, -6.9680e-02, -5.4894e-02, -2.5685e-02,\n",
      "         -4.9951e-02, -9.2258e-04, -2.0607e-02,  8.0865e-03, -5.6131e-02,\n",
      "          8.1350e-03,  9.5056e-03, -1.2801e-03, -1.8871e-02, -8.1526e-02,\n",
      "         -5.3221e-02,  1.2392e-03,  1.1309e-02, -2.6947e-02, -4.8519e-02],\n",
      "        [-3.1385e-03,  4.6254e-02, -5.6627e-02,  1.7795e-02,  1.7227e-03,\n",
      "         -6.0333e-02,  8.9641e-02,  4.7257e-02, -2.9587e-02, -2.2268e-02,\n",
      "          3.3130e-02,  1.0308e-02, -9.5020e-03, -3.9185e-02, -2.7546e-02,\n",
      "          1.2257e-02, -8.0792e-02, -7.1859e-02,  1.6731e-02,  2.8576e-02,\n",
      "          5.3506e-02, -5.9209e-03, -7.2021e-02,  1.0532e-02,  1.7785e-02]],\n",
      "       device='cuda:0')}, 140407212256568: {'momentum_buffer': tensor([ 0.0015, -0.0001, -0.0153,  0.0077,  0.0137,  0.0038, -0.0022,  0.0004,\n",
      "        -0.0052, -0.0042], device='cuda:0')}}\n",
      "param_groups \t [{'lr': 0.01, 'momentum': 0.5, 'dampening': 0, 'weight_decay': 0, 'nesterov': False, 'params': [140407283192456, 140408644217592, 140407212256928, 140407212256568]}]\n"
     ]
    }
   ],
   "source": [
    "# Print model's state_dict\n",
    "print(\"Model's state_dict:\")\n",
    "for param_tensor in model.state_dict():\n",
    "    print(param_tensor, \"\\t\", model.state_dict()[param_tensor].size())\n",
    "\n",
    "# Print optimizer's state_dict\n",
    "print(\"Optimizer's state_dict:\")\n",
    "for var_name in optimizer.state_dict():\n",
    "    print(var_name, \"\\t\", optimizer.state_dict()[var_name])"
   ]
  },
  {
   "cell_type": "markdown",
   "metadata": {
    "colab_type": "text",
    "id": "EjiWkU_TGJgK"
   },
   "source": [
    "### Storing models to disk\n",
    "From colab (and locally) we can store models to disk using ```torch.save``` and passing both a models state_dict() and a path where to store it."
   ]
  },
  {
   "cell_type": "code",
   "execution_count": 0,
   "metadata": {
    "colab": {},
    "colab_type": "code",
    "id": "gjOcO8oxGJt0"
   },
   "outputs": [],
   "source": [
    "model_save_name = 'simplenet_mnist_classifier.pt'\n",
    "path = F\"/content/gdrive/My Drive/models/{model_save_name}\" \n",
    "torch.save(model.state_dict(), path)"
   ]
  },
  {
   "cell_type": "markdown",
   "metadata": {
    "colab_type": "text",
    "id": "_OiqJ0HOF6hq"
   },
   "source": [
    "### Loading models from checkpoints\n",
    "Finally, we can restore models from the saved ```state_dict```'s and do a number of things such as:\n",
    "1. Continue training (given we stored the optimizer as well)\n",
    "2. Make predictions from our model\n",
    "3. Perform inspections of our model\n",
    "4. Use our model in ensembles \n",
    "5. ...\n",
    "\n",
    "By default a loaded model is put into ```.train()``` mode. So be careful when using networks that behave different depending on training and test time e.g. dropout regularized networks or batch-normalized networks."
   ]
  },
  {
   "cell_type": "code",
   "execution_count": 28,
   "metadata": {
    "colab": {
     "base_uri": "https://localhost:8080/",
     "height": 53
    },
    "colab_type": "code",
    "id": "8t4FzhqVF6vh",
    "outputId": "a6db6d8e-0387-4d13-d6d6-6fd25199185b"
   },
   "outputs": [
    {
     "name": "stdout",
     "output_type": "stream",
     "text": [
      "Avg. Test Loss: 0.116  Avg. Test Accuracy: 0.965\n",
      "\n"
     ]
    }
   ],
   "source": [
    "model = SimpleNet().to(device)\n",
    "model.load_state_dict(torch.load(path))\n",
    "model.eval()\n",
    "\n",
    "test_loss, test_accuracy = validate(model, criterion, test_loader)    \n",
    "print(\"Avg. Test Loss: %1.3f\" % test_loss.item(), \" Avg. Test Accuracy: %1.3f\" % test_accuracy.item())\n",
    "print(\"\")"
   ]
  },
  {
   "cell_type": "markdown",
   "metadata": {
    "colab_type": "text",
    "id": "uhSLXauWHmZ2"
   },
   "source": [
    "Our model performs exactly the same as before storing it to disk."
   ]
  },
  {
   "cell_type": "code",
   "execution_count": 0,
   "metadata": {
    "colab": {},
    "colab_type": "code",
    "id": "DV5_Nma1HhNj"
   },
   "outputs": [],
   "source": []
  }
 ],
 "metadata": {
  "accelerator": "GPU",
  "colab": {
   "collapsed_sections": [],
   "name": "Morning Session 3 - MNIST-Neural-Networks-Regularization-Cross-Validation.ipynb",
   "provenance": [],
   "version": "0.3.2"
  },
  "kernelspec": {
   "display_name": "Python [default]",
   "language": "python",
   "name": "python3"
  },
  "language_info": {
   "codemirror_mode": {
    "name": "ipython",
    "version": 3
   },
   "file_extension": ".py",
   "mimetype": "text/x-python",
   "name": "python",
   "nbconvert_exporter": "python",
   "pygments_lexer": "ipython3",
   "version": "3.6.5"
  }
 },
 "nbformat": 4,
 "nbformat_minor": 1
}
